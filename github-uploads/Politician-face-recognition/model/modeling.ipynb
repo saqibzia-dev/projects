{
 "cells": [
  {
   "cell_type": "code",
   "execution_count": 2,
   "metadata": {},
   "outputs": [],
   "source": [
    "import numpy as np\r\n",
    "import pandas as pd\r\n",
    "import matplotlib.pyplot as plt\r\n",
    "import cv2\r\n",
    "import joblib"
   ]
  },
  {
   "cell_type": "code",
   "execution_count": 3,
   "metadata": {},
   "outputs": [
    {
     "data": {
      "text/html": [
       "<div>\n",
       "<style scoped>\n",
       "    .dataframe tbody tr th:only-of-type {\n",
       "        vertical-align: middle;\n",
       "    }\n",
       "\n",
       "    .dataframe tbody tr th {\n",
       "        vertical-align: top;\n",
       "    }\n",
       "\n",
       "    .dataframe thead th {\n",
       "        text-align: right;\n",
       "    }\n",
       "</style>\n",
       "<table border=\"1\" class=\"dataframe\">\n",
       "  <thead>\n",
       "    <tr style=\"text-align: right;\">\n",
       "      <th></th>\n",
       "      <th>f0</th>\n",
       "      <th>f1</th>\n",
       "      <th>f2</th>\n",
       "      <th>f3</th>\n",
       "      <th>f4</th>\n",
       "      <th>f5</th>\n",
       "      <th>f6</th>\n",
       "      <th>f7</th>\n",
       "      <th>f8</th>\n",
       "      <th>f9</th>\n",
       "      <th>...</th>\n",
       "      <th>f4087</th>\n",
       "      <th>f4088</th>\n",
       "      <th>f4089</th>\n",
       "      <th>f4090</th>\n",
       "      <th>f4091</th>\n",
       "      <th>f4092</th>\n",
       "      <th>f4093</th>\n",
       "      <th>f4094</th>\n",
       "      <th>f4095</th>\n",
       "      <th>class</th>\n",
       "    </tr>\n",
       "  </thead>\n",
       "  <tbody>\n",
       "    <tr>\n",
       "      <th>0</th>\n",
       "      <td>66.0</td>\n",
       "      <td>83.0</td>\n",
       "      <td>83.0</td>\n",
       "      <td>61.0</td>\n",
       "      <td>78.0</td>\n",
       "      <td>87.0</td>\n",
       "      <td>49.0</td>\n",
       "      <td>70.0</td>\n",
       "      <td>85.0</td>\n",
       "      <td>63.0</td>\n",
       "      <td>...</td>\n",
       "      <td>38.0</td>\n",
       "      <td>42.0</td>\n",
       "      <td>65.0</td>\n",
       "      <td>56.0</td>\n",
       "      <td>56.0</td>\n",
       "      <td>51.0</td>\n",
       "      <td>49.0</td>\n",
       "      <td>39.0</td>\n",
       "      <td>39.0</td>\n",
       "      <td>0</td>\n",
       "    </tr>\n",
       "    <tr>\n",
       "      <th>1</th>\n",
       "      <td>39.0</td>\n",
       "      <td>49.0</td>\n",
       "      <td>66.0</td>\n",
       "      <td>28.0</td>\n",
       "      <td>35.0</td>\n",
       "      <td>45.0</td>\n",
       "      <td>2.0</td>\n",
       "      <td>16.0</td>\n",
       "      <td>22.0</td>\n",
       "      <td>29.0</td>\n",
       "      <td>...</td>\n",
       "      <td>202.0</td>\n",
       "      <td>101.0</td>\n",
       "      <td>77.0</td>\n",
       "      <td>78.0</td>\n",
       "      <td>109.0</td>\n",
       "      <td>225.0</td>\n",
       "      <td>219.0</td>\n",
       "      <td>219.0</td>\n",
       "      <td>223.0</td>\n",
       "      <td>0</td>\n",
       "    </tr>\n",
       "    <tr>\n",
       "      <th>2</th>\n",
       "      <td>129.0</td>\n",
       "      <td>138.0</td>\n",
       "      <td>148.0</td>\n",
       "      <td>140.0</td>\n",
       "      <td>149.0</td>\n",
       "      <td>158.0</td>\n",
       "      <td>144.0</td>\n",
       "      <td>154.0</td>\n",
       "      <td>164.0</td>\n",
       "      <td>149.0</td>\n",
       "      <td>...</td>\n",
       "      <td>189.0</td>\n",
       "      <td>41.0</td>\n",
       "      <td>15.0</td>\n",
       "      <td>231.0</td>\n",
       "      <td>226.0</td>\n",
       "      <td>223.0</td>\n",
       "      <td>251.0</td>\n",
       "      <td>52.0</td>\n",
       "      <td>54.0</td>\n",
       "      <td>0</td>\n",
       "    </tr>\n",
       "    <tr>\n",
       "      <th>3</th>\n",
       "      <td>114.0</td>\n",
       "      <td>45.0</td>\n",
       "      <td>36.0</td>\n",
       "      <td>113.0</td>\n",
       "      <td>40.0</td>\n",
       "      <td>32.0</td>\n",
       "      <td>110.0</td>\n",
       "      <td>38.0</td>\n",
       "      <td>30.0</td>\n",
       "      <td>109.0</td>\n",
       "      <td>...</td>\n",
       "      <td>79.0</td>\n",
       "      <td>42.0</td>\n",
       "      <td>178.0</td>\n",
       "      <td>196.0</td>\n",
       "      <td>244.0</td>\n",
       "      <td>245.0</td>\n",
       "      <td>0.0</td>\n",
       "      <td>0.0</td>\n",
       "      <td>196.0</td>\n",
       "      <td>0</td>\n",
       "    </tr>\n",
       "    <tr>\n",
       "      <th>4</th>\n",
       "      <td>9.0</td>\n",
       "      <td>14.0</td>\n",
       "      <td>12.0</td>\n",
       "      <td>9.0</td>\n",
       "      <td>14.0</td>\n",
       "      <td>13.0</td>\n",
       "      <td>22.0</td>\n",
       "      <td>27.0</td>\n",
       "      <td>26.0</td>\n",
       "      <td>20.0</td>\n",
       "      <td>...</td>\n",
       "      <td>201.0</td>\n",
       "      <td>28.0</td>\n",
       "      <td>241.0</td>\n",
       "      <td>228.0</td>\n",
       "      <td>230.0</td>\n",
       "      <td>212.0</td>\n",
       "      <td>226.0</td>\n",
       "      <td>242.0</td>\n",
       "      <td>235.0</td>\n",
       "      <td>0</td>\n",
       "    </tr>\n",
       "  </tbody>\n",
       "</table>\n",
       "<p>5 rows × 4097 columns</p>\n",
       "</div>"
      ],
      "text/plain": [
       "      f0     f1     f2     f3     f4     f5     f6     f7     f8     f9  ...  \\\n",
       "0   66.0   83.0   83.0   61.0   78.0   87.0   49.0   70.0   85.0   63.0  ...   \n",
       "1   39.0   49.0   66.0   28.0   35.0   45.0    2.0   16.0   22.0   29.0  ...   \n",
       "2  129.0  138.0  148.0  140.0  149.0  158.0  144.0  154.0  164.0  149.0  ...   \n",
       "3  114.0   45.0   36.0  113.0   40.0   32.0  110.0   38.0   30.0  109.0  ...   \n",
       "4    9.0   14.0   12.0    9.0   14.0   13.0   22.0   27.0   26.0   20.0  ...   \n",
       "\n",
       "   f4087  f4088  f4089  f4090  f4091  f4092  f4093  f4094  f4095  class  \n",
       "0   38.0   42.0   65.0   56.0   56.0   51.0   49.0   39.0   39.0      0  \n",
       "1  202.0  101.0   77.0   78.0  109.0  225.0  219.0  219.0  223.0      0  \n",
       "2  189.0   41.0   15.0  231.0  226.0  223.0  251.0   52.0   54.0      0  \n",
       "3   79.0   42.0  178.0  196.0  244.0  245.0    0.0    0.0  196.0      0  \n",
       "4  201.0   28.0  241.0  228.0  230.0  212.0  226.0  242.0  235.0      0  \n",
       "\n",
       "[5 rows x 4097 columns]"
      ]
     },
     "execution_count": 3,
     "metadata": {},
     "output_type": "execute_result"
    }
   ],
   "source": [
    "df = pd.read_csv('dataset.csv')\r\n",
    "classes = joblib.load('class_dict.joblib')\r\n",
    "df.head()"
   ]
  },
  {
   "cell_type": "code",
   "execution_count": 4,
   "metadata": {},
   "outputs": [],
   "source": [
    "X = df.drop(\"class\",axis = \"columns\")\r\n",
    "y = df['class']"
   ]
  },
  {
   "cell_type": "code",
   "execution_count": 5,
   "metadata": {},
   "outputs": [
    {
     "name": "stdout",
     "output_type": "stream",
     "text": [
      "0.8666666666666667\n"
     ]
    }
   ],
   "source": [
    "# Training our model\r\n",
    "from sklearn.svm import SVC\r\n",
    "from sklearn.ensemble import RandomForestClassifier\r\n",
    "from sklearn.linear_model import LogisticRegression\r\n",
    "from sklearn.pipeline import Pipeline\r\n",
    "from sklearn.model_selection import train_test_split\r\n",
    "from sklearn.preprocessing import StandardScaler\r\n",
    "from sklearn.metrics import confusion_matrix,classification_report\r\n",
    "\r\n",
    "x_train,x_test,y_train,y_test = train_test_split(X,y,test_size = 0.2,stratify = y)\r\n",
    "pipeline = Pipeline( [ ('scaler',StandardScaler() ), ( 'svc',SVC(kernel = \"rbf\",C = 10) ) ])\r\n",
    "pipeline.fit(x_train,y_train)\r\n",
    "\r\n",
    "y_pred = pipeline.predict(x_test)\r\n",
    "print(pipeline.score(x_test,y_test))"
   ]
  },
  {
   "cell_type": "code",
   "execution_count": 6,
   "metadata": {},
   "outputs": [
    {
     "name": "stdout",
     "output_type": "stream",
     "text": [
      "              precision    recall  f1-score   support\n",
      "\n",
      "           0       0.75      0.38      0.50         8\n",
      "           1       1.00      0.91      0.95        11\n",
      "           2       0.76      1.00      0.86        16\n",
      "           3       1.00      1.00      1.00        10\n",
      "\n",
      "    accuracy                           0.87        45\n",
      "   macro avg       0.88      0.82      0.83        45\n",
      "weighted avg       0.87      0.87      0.85        45\n",
      "\n"
     ]
    }
   ],
   "source": [
    "cr = classification_report(y_test,y_pred)\r\n",
    "print(cr)\r\n",
    "#print(set(y_test)-set(y_pred))"
   ]
  },
  {
   "cell_type": "code",
   "execution_count": 7,
   "metadata": {},
   "outputs": [],
   "source": [
    "# Using Grid Search To find best model\r\n",
    "model_params = {\r\n",
    "    \"svm\":{\r\n",
    "        'model': SVC(gamma = \"auto\",probability = True),\r\n",
    "        'params':{\r\n",
    "                    'svc__C' : [1,10,100,1000],\r\n",
    "                    'svc__kernel':['rbf','linear'],\r\n",
    "        }\r\n",
    "    },\r\n",
    "    \"random_forest\":{\r\n",
    "        'model': RandomForestClassifier(),\r\n",
    "        'params':{\r\n",
    "            'randomforestclassifier__n_estimators':[10,20,100]\r\n",
    "        }\r\n",
    "    },\r\n",
    "    \"logistic_regression\":{\r\n",
    "        'model': LogisticRegression(solver = \"liblinear\",multi_class = \"auto\"),\r\n",
    "        'params':{\r\n",
    "            'logisticregression__C':[1,5,10]\r\n",
    "        }\r\n",
    "    }\r\n",
    "}"
   ]
  },
  {
   "cell_type": "code",
   "execution_count": 8,
   "metadata": {},
   "outputs": [],
   "source": [
    "from sklearn.model_selection import GridSearchCV\r\n",
    "from sklearn.pipeline import make_pipeline\r\n",
    "scores_list = []\r\n",
    "best_estimator_dict = {}\r\n",
    "\r\n",
    "for model_name,mp in model_params.items():\r\n",
    "    pipeline = make_pipeline( StandardScaler(),mp['model'] )\r\n",
    "    model = GridSearchCV(pipeline,mp['params'],cv = 5,return_train_score = False)\r\n",
    "    model.fit(x_train,y_train)\r\n",
    "    scores_list.append({\r\n",
    "        'model':model_name,\r\n",
    "        'best_score':model.best_score_,\r\n",
    "        'best_params':model.best_params_,\r\n",
    "    })\r\n",
    "    best_estimator_dict[model_name] = model.best_estimator_\r\n",
    "\r\n",
    " \r\n"
   ]
  },
  {
   "cell_type": "code",
   "execution_count": 14,
   "metadata": {},
   "outputs": [],
   "source": [
    "scores_df = pd.DataFrame(scores_list)\r\n",
    "scores_df.to_csv('GridSearchCV_results.csv',index = False)"
   ]
  },
  {
   "cell_type": "code",
   "execution_count": 15,
   "metadata": {},
   "outputs": [
    {
     "data": {
      "text/html": [
       "<div>\n",
       "<style scoped>\n",
       "    .dataframe tbody tr th:only-of-type {\n",
       "        vertical-align: middle;\n",
       "    }\n",
       "\n",
       "    .dataframe tbody tr th {\n",
       "        vertical-align: top;\n",
       "    }\n",
       "\n",
       "    .dataframe thead th {\n",
       "        text-align: right;\n",
       "    }\n",
       "</style>\n",
       "<table border=\"1\" class=\"dataframe\">\n",
       "  <thead>\n",
       "    <tr style=\"text-align: right;\">\n",
       "      <th></th>\n",
       "      <th>model</th>\n",
       "      <th>best_score</th>\n",
       "      <th>best_params</th>\n",
       "    </tr>\n",
       "  </thead>\n",
       "  <tbody>\n",
       "    <tr>\n",
       "      <th>0</th>\n",
       "      <td>svm</td>\n",
       "      <td>0.892540</td>\n",
       "      <td>{'svc__C': 1, 'svc__kernel': 'linear'}</td>\n",
       "    </tr>\n",
       "    <tr>\n",
       "      <th>1</th>\n",
       "      <td>random_forest</td>\n",
       "      <td>0.774286</td>\n",
       "      <td>{'randomforestclassifier__n_estimators': 100}</td>\n",
       "    </tr>\n",
       "    <tr>\n",
       "      <th>2</th>\n",
       "      <td>logistic_regression</td>\n",
       "      <td>0.898254</td>\n",
       "      <td>{'logisticregression__C': 1}</td>\n",
       "    </tr>\n",
       "  </tbody>\n",
       "</table>\n",
       "</div>"
      ],
      "text/plain": [
       "                 model  best_score  \\\n",
       "0                  svm    0.892540   \n",
       "1        random_forest    0.774286   \n",
       "2  logistic_regression    0.898254   \n",
       "\n",
       "                                     best_params  \n",
       "0         {'svc__C': 1, 'svc__kernel': 'linear'}  \n",
       "1  {'randomforestclassifier__n_estimators': 100}  \n",
       "2                   {'logisticregression__C': 1}  "
      ]
     },
     "execution_count": 15,
     "metadata": {},
     "output_type": "execute_result"
    }
   ],
   "source": [
    "scores_df"
   ]
  },
  {
   "cell_type": "code",
   "execution_count": 16,
   "metadata": {},
   "outputs": [
    {
     "data": {
      "text/plain": [
       "{'svm': Pipeline(steps=[('standardscaler', StandardScaler()),\n",
       "                 ('svc',\n",
       "                  SVC(C=1, gamma='auto', kernel='linear', probability=True))]),\n",
       " 'random_forest': Pipeline(steps=[('standardscaler', StandardScaler()),\n",
       "                 ('randomforestclassifier', RandomForestClassifier())]),\n",
       " 'logistic_regression': Pipeline(steps=[('standardscaler', StandardScaler()),\n",
       "                 ('logisticregression',\n",
       "                  LogisticRegression(C=1, solver='liblinear'))])}"
      ]
     },
     "execution_count": 16,
     "metadata": {},
     "output_type": "execute_result"
    }
   ],
   "source": [
    "best_estimator_dict"
   ]
  },
  {
   "cell_type": "code",
   "execution_count": 17,
   "metadata": {},
   "outputs": [
    {
     "data": {
      "text/plain": [
       "0.8888888888888888"
      ]
     },
     "execution_count": 17,
     "metadata": {},
     "output_type": "execute_result"
    }
   ],
   "source": [
    "best_estimator_dict['svm'].score(x_test,y_test)"
   ]
  },
  {
   "cell_type": "code",
   "execution_count": 18,
   "metadata": {},
   "outputs": [
    {
     "data": {
      "text/plain": [
       "0.8"
      ]
     },
     "execution_count": 18,
     "metadata": {},
     "output_type": "execute_result"
    }
   ],
   "source": [
    "best_estimator_dict['random_forest'].score(x_test,y_test)"
   ]
  },
  {
   "cell_type": "code",
   "execution_count": 19,
   "metadata": {},
   "outputs": [
    {
     "data": {
      "text/plain": [
       "0.9111111111111111"
      ]
     },
     "execution_count": 19,
     "metadata": {},
     "output_type": "execute_result"
    }
   ],
   "source": [
    "best_estimator_dict['logistic_regression'].score(x_test,y_test)"
   ]
  },
  {
   "cell_type": "code",
   "execution_count": 20,
   "metadata": {},
   "outputs": [],
   "source": [
    "# From this we know that best model could be svm or logistic regression both giving good scores\r\n",
    "svm_best = best_estimator_dict['svm']\r\n",
    "lr_best = best_estimator_dict['logistic_regression']"
   ]
  },
  {
   "cell_type": "code",
   "execution_count": 21,
   "metadata": {},
   "outputs": [],
   "source": [
    "y_pred_svm = svm_best.predict(x_test)\r\n",
    "y_pred_lr = lr_best.predict(x_test)"
   ]
  },
  {
   "cell_type": "code",
   "execution_count": 22,
   "metadata": {},
   "outputs": [
    {
     "data": {
      "text/plain": [
       "array([[ 4,  0,  4,  0],\n",
       "       [ 1, 10,  0,  0],\n",
       "       [ 0,  0, 16,  0],\n",
       "       [ 0,  0,  0, 10]], dtype=int64)"
      ]
     },
     "execution_count": 22,
     "metadata": {},
     "output_type": "execute_result"
    }
   ],
   "source": [
    "cm = confusion_matrix(y_test,y_pred_svm)\r\n",
    "cm"
   ]
  },
  {
   "cell_type": "code",
   "execution_count": 28,
   "metadata": {},
   "outputs": [
    {
     "data": {
      "image/png": "[encoded data removed]",
      "text/plain": [
       "<Figure size 720x504 with 2 Axes>"
      ]
     },
     "metadata": {
      "needs_background": "light"
     },
     "output_type": "display_data"
    }
   ],
   "source": [
    "import seaborn as sns\r\n",
    "plt.figure(figsize = (10,7))\r\n",
    "sns.heatmap(cm,annot = True)\r\n",
    "plt.xlabel('predicted label')\r\n",
    "plt.xlabel('Actual label')\r\n",
    "plt.show()"
   ]
  },
  {
   "cell_type": "code",
   "execution_count": 30,
   "metadata": {},
   "outputs": [
    {
     "data": {
      "text/plain": [
       "array([[ 5,  0,  3,  0],\n",
       "       [ 0, 11,  0,  0],\n",
       "       [ 1,  0, 15,  0],\n",
       "       [ 0,  0,  0, 10]], dtype=int64)"
      ]
     },
     "execution_count": 30,
     "metadata": {},
     "output_type": "execute_result"
    }
   ],
   "source": [
    "cm = confusion_matrix(y_test,y_pred_lr)\r\n",
    "cm"
   ]
  },
  {
   "cell_type": "code",
   "execution_count": 31,
   "metadata": {},
   "outputs": [
    {
     "data": {
      "image/png": "[encoded data removed]",
      "text/plain": [
       "<Figure size 720x504 with 2 Axes>"
      ]
     },
     "metadata": {
      "needs_background": "light"
     },
     "output_type": "display_data"
    }
   ],
   "source": [
    "import seaborn as sns\r\n",
    "plt.figure(figsize = (10,7))\r\n",
    "sns.heatmap(cm,annot = True)\r\n",
    "plt.xlabel('predicted label')\r\n",
    "plt.xlabel('Actual label')\r\n",
    "plt.show()"
   ]
  },
  {
   "cell_type": "code",
   "execution_count": 34,
   "metadata": {},
   "outputs": [],
   "source": [
    "cr_svm = classification_report(y_test,y_pred_svm)\r\n",
    "cr_lr = classification_report(y_test,y_pred_lr)"
   ]
  },
  {
   "cell_type": "code",
   "execution_count": 35,
   "metadata": {},
   "outputs": [
    {
     "name": "stdout",
     "output_type": "stream",
     "text": [
      "              precision    recall  f1-score   support\n",
      "\n",
      "           0       0.80      0.50      0.62         8\n",
      "           1       1.00      0.91      0.95        11\n",
      "           2       0.80      1.00      0.89        16\n",
      "           3       1.00      1.00      1.00        10\n",
      "\n",
      "    accuracy                           0.89        45\n",
      "   macro avg       0.90      0.85      0.86        45\n",
      "weighted avg       0.89      0.89      0.88        45\n",
      "\n"
     ]
    }
   ],
   "source": [
    "print(cr_svm)"
   ]
  },
  {
   "cell_type": "code",
   "execution_count": 36,
   "metadata": {},
   "outputs": [
    {
     "name": "stdout",
     "output_type": "stream",
     "text": [
      "              precision    recall  f1-score   support\n",
      "\n",
      "           0       0.83      0.62      0.71         8\n",
      "           1       1.00      1.00      1.00        11\n",
      "           2       0.83      0.94      0.88        16\n",
      "           3       1.00      1.00      1.00        10\n",
      "\n",
      "    accuracy                           0.91        45\n",
      "   macro avg       0.92      0.89      0.90        45\n",
      "weighted avg       0.91      0.91      0.91        45\n",
      "\n"
     ]
    }
   ],
   "source": [
    "print(cr_lr)"
   ]
  },
  {
   "cell_type": "code",
   "execution_count": 37,
   "metadata": {},
   "outputs": [
    {
     "data": {
      "text/plain": [
       "['best_model_svm.joblib']"
      ]
     },
     "execution_count": 37,
     "metadata": {},
     "output_type": "execute_result"
    }
   ],
   "source": [
    "import joblib\r\n",
    "joblib.dump(lr_best,\"best_model_lr.joblib\")\r\n",
    "joblib.dump(svm_best,\"best_model_svm.joblib\")"
   ]
  },
  {
   "cell_type": "code",
   "execution_count": null,
   "metadata": {},
   "outputs": [],
   "source": []
  }
 ],
 "metadata": {
  "interpreter": {
   "hash": "94f2d2908ee9c692a093d3ab0742d01c7cbdd013f35c92cc3c42dd89bb2d7bc5"
  },
  "kernelspec": {
   "display_name": "Python 3.9.4 64-bit ('gender_recognition': conda)",
   "name": "python3"
  },
  "language_info": {
   "codemirror_mode": {
    "name": "ipython",
    "version": 3
   },
   "file_extension": ".py",
   "mimetype": "text/x-python",
   "name": "python",
   "nbconvert_exporter": "python",
   "pygments_lexer": "ipython3",
   "version": "3.9.4"
  },
  "orig_nbformat": 4
 },
 "nbformat": 4,
 "nbformat_minor": 2
}